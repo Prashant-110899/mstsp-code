{
 "cells": [
  {
   "cell_type": "code",
   "execution_count": 14,
   "id": "8e7d95a0-a6c7-4b5e-863d-a67a95eca432",
   "metadata": {},
   "outputs": [],
   "source": [
    "from builtins import object\n",
    "import numpy as np\n",
    "import math"
   ]
  },
  {
   "cell_type": "code",
   "execution_count": 15,
   "id": "6aeabb3d-5078-4376-b911-118df843b7a5",
   "metadata": {},
   "outputs": [],
   "source": [
    "class cardinate:\n",
    "    def __init__(self,a=0,b=0):\n",
    "        self.x=a\n",
    "        self.y=b\n",
    "class City(object):\n",
    "    city_vec=np.array([])\n",
    "    random=np.array([])\n",
    "    fitness=0\n",
    "    path_length=0\n",
    "    d=cardinate()\n",
    "    def distance(self, a, b):\n",
    "        return math.sqrt((a.x-b.x)*(a.x-b.x) + (a.y-b.y)*(a.y - b.y))\n",
    "    def __init__(self, input_data):\n",
    "        global object_input\n",
    "        object_input=input_data\n",
    "        self.random=np.array([])\n",
    "        mstsp_ds=[\"simple1_9\", \"simple2_10\", \"simple3_10\", \"simple4_11\", \"simple5_12\", \"simple6_12\",\n",
    "        \"geometry1_10\", \"geometry2_12\", \"geometry3_10\", \"geometry4_10\", \"geometry5_10\", \"geometry6_15\",\n",
    "        \"composite1_28\", \"composite2_34\", \"composite3_22\", \"composite4_33\", \"composite5_35\", \"composite6_39\",\t\n",
    "        \"composite7_42\", \"composite8_45\", \"composite9_48\",  \"composite10_55\", \"composite11_59\",\"composite12_60\", \"composite13_66\"]\n",
    "\n",
    "        filename = \"benchmark_MSTSP/\" + str(mstsp_ds[input_data]) + \".tsp\"\n",
    "        file_ = open(filename,\"r\")\n",
    "        # Reading from the file\n",
    "        content = file_.readlines()\n",
    " \n",
    "\n",
    "        # Iterating through the content\n",
    "        # Of the file\n",
    "        for line in content:\n",
    "            x, y = list(map(int, line.split()))\n",
    "            self.city_vec=np.append(self.city_vec,cardinate(x, y))\n",
    "\n",
    "        file_.close()\n",
    "        city_num=len(self.city_vec)\n",
    "        self.city_num = city_num\n",
    "        global dist\n",
    "\n",
    "        dist = np.empty((city_num, city_num), dtype=float)\n",
    "\n",
    "        for i in range(city_num):\n",
    "            for j in range(city_num):\n",
    "                dist[i][j] = self.distance(self.city_vec[i],self.city_vec[j])\n",
    "\n",
    "    def tot_dist(self, new_vec):\n",
    "        global MaxFES, object_input, FES, dist\n",
    "#         if FES >= MaxFES[object_input]:\n",
    "#                 return\n",
    "        new_city_vec=np.array([])\n",
    "        self.path_length=0\n",
    "        self.fitness=0\n",
    "        for i in range(self.city_num-1):\n",
    "            self.path_length+=dist[int(new_vec[i][1])][int(new_vec[i+1][1])]\n",
    "            \n",
    "        self.path_length+=dist[int(new_vec[self.city_num-1][1])][int(new_vec[0][1])]\n",
    "        self.fitness=self.path_length\n",
    "#         FES+=1\n",
    "    def _get_maxfes(self,ml):\n",
    "        object_input = ml\n",
    "        return MaxFES[object_input]\n",
    "    def _evaluate(self,arr):\n",
    "        arr1=np.array([])\n",
    "        arr1=np.append(arr1,0)\n",
    "        arr1=np.append(arr1,arr)\n",
    "        tempRandom=Chromosome(arr1)\n",
    "        self.random = tempRandom.path\n",
    "        self.tot_dist(self.random)\n",
    "        if self.fitness%1.000>=0.5:\n",
    "            self.fitness+=1-(self.fitness%1.000)\n",
    "        else:\n",
    "            self.fitness-=self.fitness%1.000\n",
    "        self.fitness=int(self.fitness)\n",
    "        return self.fitness\n",
    "    \n",
    "class Chromosome:\n",
    "    def __init__(self,arr):\n",
    "        __num=len(arr)\n",
    "        path=np.empty((__num,2),dtype=float)\n",
    "        for i in range(__num):\n",
    "            path[i][0] = arr[i]\n",
    "            path[i][1] = i\n",
    "\n",
    "        ss=path[0][0]\n",
    "        columnIndex=0\n",
    "        path=path[path[:,columnIndex].argsort()]\n",
    "        self.path = path\n",
    "#         path1=np.empty((__num,2),dtype=float)\n",
    "#         path1[0][0]=ss\n",
    "#         path1[0][1]=0\n",
    "#         j=1\n",
    "#         for i in range(__num):\n",
    "#             if(path[i][1]==0):\n",
    "#                 continue\n",
    "#             else:\n",
    "#                 path1[j][0]=path[i][0]\n",
    "#                 path1[j][1]=path[i][1]\n",
    "#                 j+=1"
   ]
  },
  {
   "cell_type": "code",
   "execution_count": 16,
   "id": "6e2c8b11-04b2-44ec-8bb9-d9ec9eac740f",
   "metadata": {},
   "outputs": [
    {
     "name": "stdout",
     "output_type": "stream",
     "text": [
      "[0.91175265 0.21378325 0.34204899 0.22582551 0.58603853 0.02627616\n",
      " 0.75542763 0.40677357 0.48312828]\n"
     ]
    },
    {
     "data": {
      "text/plain": [
       "1141"
      ]
     },
     "execution_count": 16,
     "metadata": {},
     "output_type": "execute_result"
    }
   ],
   "source": [
    "f = City(2)\n",
    "lb=0\n",
    "ub=1\n",
    "dim=f.city_num-1\n",
    "a=np.random.uniform(lb, ub, size=dim)\n",
    "print(a)\n",
    "f._evaluate(a)"
   ]
  },
  {
   "cell_type": "code",
   "execution_count": null,
   "id": "5ee1ade8-c21f-4136-8c03-cd9a9857503f",
   "metadata": {},
   "outputs": [],
   "source": []
  }
 ],
 "metadata": {
  "kernelspec": {
   "display_name": "Python 3",
   "language": "python",
   "name": "python3"
  },
  "language_info": {
   "codemirror_mode": {
    "name": "ipython",
    "version": 3
   },
   "file_extension": ".py",
   "mimetype": "text/x-python",
   "name": "python",
   "nbconvert_exporter": "python",
   "pygments_lexer": "ipython3",
   "version": "3.8.8"
  }
 },
 "nbformat": 4,
 "nbformat_minor": 5
}
